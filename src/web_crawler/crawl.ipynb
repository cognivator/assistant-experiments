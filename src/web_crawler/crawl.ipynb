{
 "cells": [
  {
   "cell_type": "code",
   "outputs": [],
   "source": [
    "%load_ext autoreload"
   ],
   "metadata": {
    "collapsed": false
   },
   "id": "888f5e527b1c3ee9",
   "execution_count": null
  },
  {
   "cell_type": "code",
   "outputs": [
    {
     "name": "stdout",
     "output_type": "stream",
     "text": [
      "Base URL: https://slhenty.com\n",
      "scraped: https://slhenty.com/?a=true&n=99\n",
      "scraped: https://slhenty.com/project/climate-change-bias?a=true&n=99\n",
      "scraped: https://slhenty.com/project/genai-exploration?a=true&n=99\n",
      "scraped: https://slhenty.com/project/community-wifi?a=true&n=99\n",
      "scraped: https://slhenty.com/project/glimpse-ui-pattern?a=true&n=99\n",
      "scraped: https://slhenty.com/project/jury-simulation?a=true&n=99\n",
      "scraped: https://slhenty.com/project/realtime-report-builder?a=true&n=99\n",
      "scraped: https://slhenty.com/project/sdpl-app-design?a=true&n=99\n",
      "scraped: https://slhenty.com/project/sdpl-scenic-projector?a=true&n=99\n",
      "scraped: https://slhenty.com/project/sdpl-scenic-projector?a=true&n=99\n",
      "scraped: https://slhenty.com/project/ui-telemetry-spec?a=true&n=99\n",
      "scraped: https://slhenty.com/project/wrapped-components-highcharts?a=true&n=99\n",
      "scraped: https://slhenty.com/project/agile-coaching?a=true&n=99\n",
      "scraped: https://slhenty.com/project/exploratory-prototyping?a=true&n=99\n",
      "scraped: https://slhenty.com/project/iterative-prototyping?a=true&n=99\n",
      "scraped: https://slhenty.com/project/iterative-prototyping?a=true&n=99\n",
      "scraped: https://slhenty.com/project/stack-deck-design-cards?a=true&n=99\n",
      "scraped: https://slhenty.com/project/suggested-action-pattern?a=true&n=99\n",
      "scraped: https://slhenty.com/project/aplegen-tablet-ui?a=true&n=99\n",
      "scraped: https://slhenty.com/project/css-refactor?a=true&n=99\n",
      "scraped: https://slhenty.com/project/fineuploader-modal?a=true&n=99\n",
      "scraped: https://slhenty.com/project/mobile-line-item-images?a=true&n=99\n"
     ]
    }
   ],
   "source": [
    "%autoreload 1\n",
    "\n",
    "import crawler\n",
    "%aimport crawler\n",
    "\n",
    "crawler.crawl('https://slhenty.com/?a=true&n=99', max_depth=3)"
   ],
   "metadata": {
    "collapsed": false,
    "ExecuteTime": {
     "end_time": "2024-04-18T13:31:30.358761Z",
     "start_time": "2024-04-18T13:31:18.664213Z"
    }
   },
   "id": "283e6c7c2ca9ec19",
   "execution_count": 88
  }
 ],
 "metadata": {
  "kernelspec": {
   "display_name": "Python 3",
   "language": "python",
   "name": "python3"
  },
  "language_info": {
   "codemirror_mode": {
    "name": "ipython",
    "version": 2
   },
   "file_extension": ".py",
   "mimetype": "text/x-python",
   "name": "python",
   "nbconvert_exporter": "python",
   "pygments_lexer": "ipython2",
   "version": "2.7.6"
  }
 },
 "nbformat": 4,
 "nbformat_minor": 5
}
